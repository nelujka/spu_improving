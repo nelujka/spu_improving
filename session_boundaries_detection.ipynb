{
 "cells": [
  {
   "cell_type": "code",
   "execution_count": 108,
   "id": "f9a17264-8b71-4483-8b2a-0b620d1a5591",
   "metadata": {},
   "outputs": [],
   "source": [
    "import pandas as pd\n",
    "from sklearn.metrics import precision_score, recall_score, f1_score "
   ]
  },
  {
   "cell_type": "code",
   "execution_count": 2,
   "id": "34d6b5ed-ee84-43f7-aad4-fea6b4c843f7",
   "metadata": {},
   "outputs": [],
   "source": [
    "data = pd.read_excel(\"data.xlsx\")\n",
    "distances = pd.read_excel(\"distances.xlsx\")"
   ]
  },
  {
   "cell_type": "code",
   "execution_count": 88,
   "id": "c14962c4-7258-4600-89e1-679db5020754",
   "metadata": {},
   "outputs": [
    {
     "data": {
      "text/html": [
       "<div>\n",
       "<style scoped>\n",
       "    .dataframe tbody tr th:only-of-type {\n",
       "        vertical-align: middle;\n",
       "    }\n",
       "\n",
       "    .dataframe tbody tr th {\n",
       "        vertical-align: top;\n",
       "    }\n",
       "\n",
       "    .dataframe thead th {\n",
       "        text-align: right;\n",
       "    }\n",
       "</style>\n",
       "<table border=\"1\" class=\"dataframe\">\n",
       "  <thead>\n",
       "    <tr style=\"text-align: right;\">\n",
       "      <th></th>\n",
       "      <th>89636817964</th>\n",
       "      <th>89636817923</th>\n",
       "      <th>89636817955</th>\n",
       "      <th>совкомбанк горячая линия</th>\n",
       "      <th>совкомбанк вологда телефон</th>\n",
       "      <th>совкомбанк вологда адреса и телефоны</th>\n",
       "      <th>вк</th>\n",
       "      <th>оплата теле2 с банковской карты вологда</th>\n",
       "      <th>погода кубенское</th>\n",
       "      <th>оплата теле2 с банковской карты Вологда</th>\n",
       "      <th>...</th>\n",
       "      <th>инсталляция с унитазом в комплекте купить</th>\n",
       "      <th>светильник подвесной цилиндр</th>\n",
       "      <th>настенный ламинат</th>\n",
       "      <th>декор панно</th>\n",
       "      <th>тв шоу</th>\n",
       "      <th>абстракция для интерьера</th>\n",
       "      <th>Стул барный DOBRIN MIRA, LM-5001, чёрный</th>\n",
       "      <th>lost ark зачем золото</th>\n",
       "      <th>not bad now you gif e</th>\n",
       "      <th>Брюсов биография</th>\n",
       "    </tr>\n",
       "    <tr>\n",
       "      <th>Unnamed: 0</th>\n",
       "      <th></th>\n",
       "      <th></th>\n",
       "      <th></th>\n",
       "      <th></th>\n",
       "      <th></th>\n",
       "      <th></th>\n",
       "      <th></th>\n",
       "      <th></th>\n",
       "      <th></th>\n",
       "      <th></th>\n",
       "      <th></th>\n",
       "      <th></th>\n",
       "      <th></th>\n",
       "      <th></th>\n",
       "      <th></th>\n",
       "      <th></th>\n",
       "      <th></th>\n",
       "      <th></th>\n",
       "      <th></th>\n",
       "      <th></th>\n",
       "      <th></th>\n",
       "    </tr>\n",
       "  </thead>\n",
       "  <tbody>\n",
       "    <tr>\n",
       "      <th>89636817964</th>\n",
       "      <td>-2.220446e-16</td>\n",
       "      <td>0.015663</td>\n",
       "      <td>0.018285</td>\n",
       "      <td>0.516425</td>\n",
       "      <td>0.568367</td>\n",
       "      <td>0.572036</td>\n",
       "      <td>0.341589</td>\n",
       "      <td>0.508128</td>\n",
       "      <td>0.566768</td>\n",
       "      <td>0.508128</td>\n",
       "      <td>...</td>\n",
       "      <td>0.503163</td>\n",
       "      <td>0.538192</td>\n",
       "      <td>0.629471</td>\n",
       "      <td>0.521013</td>\n",
       "      <td>0.529668</td>\n",
       "      <td>0.600208</td>\n",
       "      <td>0.463813</td>\n",
       "      <td>0.619172</td>\n",
       "      <td>0.544156</td>\n",
       "      <td>0.556837</td>\n",
       "    </tr>\n",
       "    <tr>\n",
       "      <th>89636817923</th>\n",
       "      <td>1.566285e-02</td>\n",
       "      <td>0.000000</td>\n",
       "      <td>0.011698</td>\n",
       "      <td>0.500336</td>\n",
       "      <td>0.527769</td>\n",
       "      <td>0.532899</td>\n",
       "      <td>0.314822</td>\n",
       "      <td>0.478625</td>\n",
       "      <td>0.556110</td>\n",
       "      <td>0.478625</td>\n",
       "      <td>...</td>\n",
       "      <td>0.519810</td>\n",
       "      <td>0.531629</td>\n",
       "      <td>0.614651</td>\n",
       "      <td>0.526390</td>\n",
       "      <td>0.543031</td>\n",
       "      <td>0.601169</td>\n",
       "      <td>0.436581</td>\n",
       "      <td>0.621279</td>\n",
       "      <td>0.539377</td>\n",
       "      <td>0.564608</td>\n",
       "    </tr>\n",
       "    <tr>\n",
       "      <th>89636817955</th>\n",
       "      <td>1.828505e-02</td>\n",
       "      <td>0.011698</td>\n",
       "      <td>0.000000</td>\n",
       "      <td>0.488724</td>\n",
       "      <td>0.503735</td>\n",
       "      <td>0.505728</td>\n",
       "      <td>0.321093</td>\n",
       "      <td>0.434377</td>\n",
       "      <td>0.530669</td>\n",
       "      <td>0.434377</td>\n",
       "      <td>...</td>\n",
       "      <td>0.522956</td>\n",
       "      <td>0.530611</td>\n",
       "      <td>0.620084</td>\n",
       "      <td>0.513078</td>\n",
       "      <td>0.571157</td>\n",
       "      <td>0.595296</td>\n",
       "      <td>0.436119</td>\n",
       "      <td>0.645579</td>\n",
       "      <td>0.549280</td>\n",
       "      <td>0.565716</td>\n",
       "    </tr>\n",
       "    <tr>\n",
       "      <th>совкомбанк горячая линия</th>\n",
       "      <td>5.164252e-01</td>\n",
       "      <td>0.500336</td>\n",
       "      <td>0.488724</td>\n",
       "      <td>0.000000</td>\n",
       "      <td>0.146539</td>\n",
       "      <td>0.152986</td>\n",
       "      <td>0.486947</td>\n",
       "      <td>0.406711</td>\n",
       "      <td>0.613810</td>\n",
       "      <td>0.406711</td>\n",
       "      <td>...</td>\n",
       "      <td>0.630024</td>\n",
       "      <td>0.749376</td>\n",
       "      <td>0.738606</td>\n",
       "      <td>0.800993</td>\n",
       "      <td>0.645955</td>\n",
       "      <td>0.817137</td>\n",
       "      <td>0.618561</td>\n",
       "      <td>0.736538</td>\n",
       "      <td>0.715732</td>\n",
       "      <td>0.564268</td>\n",
       "    </tr>\n",
       "    <tr>\n",
       "      <th>совкомбанк вологда телефон</th>\n",
       "      <td>5.683672e-01</td>\n",
       "      <td>0.527769</td>\n",
       "      <td>0.503735</td>\n",
       "      <td>0.146539</td>\n",
       "      <td>0.000000</td>\n",
       "      <td>0.014545</td>\n",
       "      <td>0.588330</td>\n",
       "      <td>0.285385</td>\n",
       "      <td>0.515219</td>\n",
       "      <td>0.285385</td>\n",
       "      <td>...</td>\n",
       "      <td>0.765507</td>\n",
       "      <td>0.743573</td>\n",
       "      <td>0.769575</td>\n",
       "      <td>0.874331</td>\n",
       "      <td>0.763829</td>\n",
       "      <td>0.891492</td>\n",
       "      <td>0.628036</td>\n",
       "      <td>0.743013</td>\n",
       "      <td>0.831801</td>\n",
       "      <td>0.575721</td>\n",
       "    </tr>\n",
       "  </tbody>\n",
       "</table>\n",
       "<p>5 rows × 2085 columns</p>\n",
       "</div>"
      ],
      "text/plain": [
       "                             89636817964  89636817923  89636817955  \\\n",
       "Unnamed: 0                                                           \n",
       "89636817964                -2.220446e-16     0.015663     0.018285   \n",
       "89636817923                 1.566285e-02     0.000000     0.011698   \n",
       "89636817955                 1.828505e-02     0.011698     0.000000   \n",
       "совкомбанк горячая линия    5.164252e-01     0.500336     0.488724   \n",
       "совкомбанк вологда телефон  5.683672e-01     0.527769     0.503735   \n",
       "\n",
       "                            совкомбанк горячая линия  \\\n",
       "Unnamed: 0                                             \n",
       "89636817964                                 0.516425   \n",
       "89636817923                                 0.500336   \n",
       "89636817955                                 0.488724   \n",
       "совкомбанк горячая линия                    0.000000   \n",
       "совкомбанк вологда телефон                  0.146539   \n",
       "\n",
       "                            совкомбанк вологда телефон  \\\n",
       "Unnamed: 0                                               \n",
       "89636817964                                   0.568367   \n",
       "89636817923                                   0.527769   \n",
       "89636817955                                   0.503735   \n",
       "совкомбанк горячая линия                      0.146539   \n",
       "совкомбанк вологда телефон                    0.000000   \n",
       "\n",
       "                            совкомбанк вологда адреса и телефоны        вк  \\\n",
       "Unnamed: 0                                                                   \n",
       "89636817964                                             0.572036  0.341589   \n",
       "89636817923                                             0.532899  0.314822   \n",
       "89636817955                                             0.505728  0.321093   \n",
       "совкомбанк горячая линия                                0.152986  0.486947   \n",
       "совкомбанк вологда телефон                              0.014545  0.588330   \n",
       "\n",
       "                            оплата теле2 с банковской карты вологда  \\\n",
       "Unnamed: 0                                                            \n",
       "89636817964                                                0.508128   \n",
       "89636817923                                                0.478625   \n",
       "89636817955                                                0.434377   \n",
       "совкомбанк горячая линия                                   0.406711   \n",
       "совкомбанк вологда телефон                                 0.285385   \n",
       "\n",
       "                            погода кубенское  \\\n",
       "Unnamed: 0                                     \n",
       "89636817964                         0.566768   \n",
       "89636817923                         0.556110   \n",
       "89636817955                         0.530669   \n",
       "совкомбанк горячая линия            0.613810   \n",
       "совкомбанк вологда телефон          0.515219   \n",
       "\n",
       "                            оплата теле2 с банковской карты Вологда  ...  \\\n",
       "Unnamed: 0                                                           ...   \n",
       "89636817964                                                0.508128  ...   \n",
       "89636817923                                                0.478625  ...   \n",
       "89636817955                                                0.434377  ...   \n",
       "совкомбанк горячая линия                                   0.406711  ...   \n",
       "совкомбанк вологда телефон                                 0.285385  ...   \n",
       "\n",
       "                            инсталляция с унитазом в комплекте купить  \\\n",
       "Unnamed: 0                                                              \n",
       "89636817964                                                  0.503163   \n",
       "89636817923                                                  0.519810   \n",
       "89636817955                                                  0.522956   \n",
       "совкомбанк горячая линия                                     0.630024   \n",
       "совкомбанк вологда телефон                                   0.765507   \n",
       "\n",
       "                            светильник подвесной цилиндр  настенный ламинат  \\\n",
       "Unnamed: 0                                                                    \n",
       "89636817964                                     0.538192           0.629471   \n",
       "89636817923                                     0.531629           0.614651   \n",
       "89636817955                                     0.530611           0.620084   \n",
       "совкомбанк горячая линия                        0.749376           0.738606   \n",
       "совкомбанк вологда телефон                      0.743573           0.769575   \n",
       "\n",
       "                            декор панно    тв шоу  абстракция для интерьера  \\\n",
       "Unnamed: 0                                                                    \n",
       "89636817964                    0.521013  0.529668                  0.600208   \n",
       "89636817923                    0.526390  0.543031                  0.601169   \n",
       "89636817955                    0.513078  0.571157                  0.595296   \n",
       "совкомбанк горячая линия       0.800993  0.645955                  0.817137   \n",
       "совкомбанк вологда телефон     0.874331  0.763829                  0.891492   \n",
       "\n",
       "                            Стул барный DOBRIN MIRA, LM-5001, чёрный  \\\n",
       "Unnamed: 0                                                             \n",
       "89636817964                                                 0.463813   \n",
       "89636817923                                                 0.436581   \n",
       "89636817955                                                 0.436119   \n",
       "совкомбанк горячая линия                                    0.618561   \n",
       "совкомбанк вологда телефон                                  0.628036   \n",
       "\n",
       "                            lost ark зачем золото  not bad now you gif e  \\\n",
       "Unnamed: 0                                                                 \n",
       "89636817964                              0.619172               0.544156   \n",
       "89636817923                              0.621279               0.539377   \n",
       "89636817955                              0.645579               0.549280   \n",
       "совкомбанк горячая линия                 0.736538               0.715732   \n",
       "совкомбанк вологда телефон               0.743013               0.831801   \n",
       "\n",
       "                            Брюсов биография  \n",
       "Unnamed: 0                                    \n",
       "89636817964                         0.556837  \n",
       "89636817923                         0.564608  \n",
       "89636817955                         0.565716  \n",
       "совкомбанк горячая линия            0.564268  \n",
       "совкомбанк вологда телефон          0.575721  \n",
       "\n",
       "[5 rows x 2085 columns]"
      ]
     },
     "execution_count": 88,
     "metadata": {},
     "output_type": "execute_result"
    }
   ],
   "source": [
    "distances = distances.set_index('Unnamed: 0')\n",
    "distances.head()"
   ]
  },
  {
   "cell_type": "code",
   "execution_count": 12,
   "id": "abde32bb-cd17-4984-9c8d-4c1d1d96ca43",
   "metadata": {},
   "outputs": [],
   "source": [
    "data['last_click_ts'] = data['last_click_ts'].fillna(0)"
   ]
  },
  {
   "cell_type": "code",
   "execution_count": 58,
   "id": "e2aa0388-dd59-4510-90c4-0e0b8284ad28",
   "metadata": {},
   "outputs": [],
   "source": [
    "class Request(object):\n",
    "    def __init__(self, request):\n",
    "        self.user_id = request[\"user_id\"]\n",
    "        self.id = request[\"request_id\"]\n",
    "        self.query = request[\"query\"]\n",
    "        self.ts = request[\"ts\"]\n",
    "        self.last_click_ts = max(request[\"ts\"], request[\"last_click_ts\"])\n",
    "        self.is_reload = request[\"is_reload\"]\n",
    "        self.is_not_zero_page = request[\"is_not_zero_page\"]\n",
    "        self.has_click = request[\"is_not_zero_page\"]\n",
    "        self.exception_flag = request[\"exception_flag\"]\n",
    "        self.session_id = None"
   ]
  },
  {
   "cell_type": "code",
   "execution_count": 132,
   "id": "065de430-ef0b-4fc4-9562-eec69165a786",
   "metadata": {},
   "outputs": [],
   "source": [
    "MAX_MINUTES_OF_INACTIVITY = 30\n",
    "MAX_MINUTES_OF_INACTIVITY_FOR_DISTANT_QUERIES = 30\n",
    "DISTANT_QUERIES_THRESHOLD = 0.4\n",
    "\n",
    "class Session(object):\n",
    "    def __init__(self, request):\n",
    "        self.user_id = request.user_id\n",
    "        self.first_request_id = request.id\n",
    "        self.ts_end = None\n",
    "        self.last_query = None\n",
    "\n",
    "        self.append(request)\n",
    "\n",
    "    def append(self, request):\n",
    "        self.ts_end = request.last_click_ts\n",
    "        self.last_query = request.query\n",
    "\n",
    "    def is_in_session(self, request):\n",
    "        if request.is_not_zero_page:  # не первая страница - всегда в той же сессии\n",
    "            return True\n",
    "\n",
    "        if request.ts > self.ts_end + 60 * MAX_MINUTES_OF_INACTIVITY:\n",
    "            return False\n",
    "        if request.ts > self.ts_end + 60 * MAX_MINUTES_OF_INACTIVITY_FOR_DISTANT_QUERIES:\n",
    "            if get_query_dist(self.last_query, request.query) > DISTANT_QUERIES_THRESHOLD:\n",
    "                return False\n",
    "        return True\n",
    "\n",
    "    def get_name(self):\n",
    "        return str(self.user_id) + \"-\" + str(self.first_request_id)\n",
    "\n",
    "\n",
    "def is_technical_request(request):\n",
    "    if type(request.query) != str:\n",
    "        return True\n",
    "    if not request.has_click:\n",
    "        if request.exception_flag or request.is_reload:\n",
    "            return True\n",
    "    return False\n",
    "\n",
    "\n",
    "\n",
    "def add_session_data(requests):\n",
    "    sessions = list()\n",
    "    cur_session_id = \"\"\n",
    "    for request in requests:\n",
    "        # Skip technical requests\n",
    "        if is_technical_request(request) and False:\n",
    "            request.session_id = cur_session_id\n",
    "            continue\n",
    "        if len(sessions) == 0 or not sessions[-1].is_in_session(request):\n",
    "            sessions.append(Session(request))\n",
    "            cur_session_id = sessions[-1].get_name()\n",
    "        else:\n",
    "            sessions[-1].append(request)\n",
    "        request.session_id = cur_session_id\n",
    "\n",
    "    if len(sessions) > 0:\n",
    "        for request in requests:\n",
    "            if request.session_id == \"\":\n",
    "                request.session_id = sessions[0].get_name()\n",
    "            else:\n",
    "                break\n",
    "\n",
    "def get_query_dist(q1, q2):\n",
    "    # print(q1, q2)\n",
    "    return distances.loc[q1, q2]"
   ]
  },
  {
   "cell_type": "code",
   "execution_count": 133,
   "id": "bf1e8135-1634-402f-a400-d652064a5736",
   "metadata": {},
   "outputs": [],
   "source": [
    "sessions = []\n",
    "for uid in set(data['user_id']):\n",
    "    requests = []\n",
    "    for index, row in data[data['user_id'] == uid].sort_values('ts').iterrows():\n",
    "        request = Request(row)\n",
    "        requests.append(request)\n",
    "    add_session_data(requests)\n",
    "    sessions = sessions + [{'request_id': vars(r)['id'], 'session_id': vars(r)['session_id']} for r in requests]"
   ]
  },
  {
   "cell_type": "code",
   "execution_count": 119,
   "id": "f582069b-4802-4f2d-8524-cf9114c17abd",
   "metadata": {},
   "outputs": [],
   "source": [
    "results = pd.DataFrame(sessions).merge(data)"
   ]
  },
  {
   "cell_type": "code",
   "execution_count": 122,
   "id": "94b2a62f-b37a-443a-8984-32dfda405a63",
   "metadata": {},
   "outputs": [],
   "source": [
    "results = pd.DataFrame(sessions).merge(results, suffixes=('_without_dist', ''), left_on=['request_id'], right_on=['request_id'])"
   ]
  },
  {
   "cell_type": "code",
   "execution_count": 134,
   "id": "3d1781e6-c257-4e9d-a4db-f8632e6b2091",
   "metadata": {},
   "outputs": [],
   "source": [
    "results = pd.DataFrame(sessions).merge(results, suffixes=('_without_dist_and_tech', ''), left_on=['request_id'], right_on=['request_id'])"
   ]
  },
  {
   "cell_type": "code",
   "execution_count": 135,
   "id": "8e87cf79-eedb-4204-b17f-ae8905b678d6",
   "metadata": {},
   "outputs": [
    {
     "data": {
      "text/html": [
       "<div>\n",
       "<style scoped>\n",
       "    .dataframe tbody tr th:only-of-type {\n",
       "        vertical-align: middle;\n",
       "    }\n",
       "\n",
       "    .dataframe tbody tr th {\n",
       "        vertical-align: top;\n",
       "    }\n",
       "\n",
       "    .dataframe thead th {\n",
       "        text-align: right;\n",
       "    }\n",
       "</style>\n",
       "<table border=\"1\" class=\"dataframe\">\n",
       "  <thead>\n",
       "    <tr style=\"text-align: right;\">\n",
       "      <th></th>\n",
       "      <th>request_id</th>\n",
       "      <th>session_id_without_dist_and_tech</th>\n",
       "      <th>session_id_without_dist</th>\n",
       "      <th>session_id</th>\n",
       "      <th>Unnamed: 0</th>\n",
       "      <th>user_id</th>\n",
       "      <th>query</th>\n",
       "      <th>ts</th>\n",
       "      <th>last_click_ts</th>\n",
       "      <th>is_reload</th>\n",
       "      <th>is_not_zero_page</th>\n",
       "      <th>has_click</th>\n",
       "      <th>exception_flag</th>\n",
       "      <th>verdict</th>\n",
       "      <th>sample</th>\n",
       "      <th>y_true</th>\n",
       "      <th>y_pred</th>\n",
       "      <th>y_pred_without_dist</th>\n",
       "    </tr>\n",
       "  </thead>\n",
       "  <tbody>\n",
       "    <tr>\n",
       "      <th>0</th>\n",
       "      <td>251</td>\n",
       "      <td>0-251</td>\n",
       "      <td>0-251</td>\n",
       "      <td>0-251</td>\n",
       "      <td>899</td>\n",
       "      <td>0</td>\n",
       "      <td>ипотека кредит проценты узбекистан</td>\n",
       "      <td>1701420565</td>\n",
       "      <td>1.701421e+09</td>\n",
       "      <td>False</td>\n",
       "      <td>False</td>\n",
       "      <td>True</td>\n",
       "      <td>False</td>\n",
       "      <td>начало</td>\n",
       "      <td>kpi</td>\n",
       "      <td>True</td>\n",
       "      <td>True</td>\n",
       "      <td>True</td>\n",
       "    </tr>\n",
       "    <tr>\n",
       "      <th>1</th>\n",
       "      <td>2967</td>\n",
       "      <td>0-2967</td>\n",
       "      <td>0-2967</td>\n",
       "      <td>0-2967</td>\n",
       "      <td>900</td>\n",
       "      <td>0</td>\n",
       "      <td>Perfect breasts Thai girl fucked by Japan man</td>\n",
       "      <td>1701524468</td>\n",
       "      <td>1.701524e+09</td>\n",
       "      <td>False</td>\n",
       "      <td>False</td>\n",
       "      <td>True</td>\n",
       "      <td>False</td>\n",
       "      <td>начало</td>\n",
       "      <td>kpi</td>\n",
       "      <td>True</td>\n",
       "      <td>True</td>\n",
       "      <td>True</td>\n",
       "    </tr>\n",
       "    <tr>\n",
       "      <th>2</th>\n",
       "      <td>2538</td>\n",
       "      <td>0-2538</td>\n",
       "      <td>0-2538</td>\n",
       "      <td>0-2538</td>\n",
       "      <td>901</td>\n",
       "      <td>0</td>\n",
       "      <td>порно туретиский анал</td>\n",
       "      <td>1701732310</td>\n",
       "      <td>1.701732e+09</td>\n",
       "      <td>False</td>\n",
       "      <td>False</td>\n",
       "      <td>True</td>\n",
       "      <td>False</td>\n",
       "      <td>начало</td>\n",
       "      <td>kpi</td>\n",
       "      <td>True</td>\n",
       "      <td>True</td>\n",
       "      <td>True</td>\n",
       "    </tr>\n",
       "    <tr>\n",
       "      <th>3</th>\n",
       "      <td>850</td>\n",
       "      <td>0-850</td>\n",
       "      <td>0-850</td>\n",
       "      <td>0-850</td>\n",
       "      <td>902</td>\n",
       "      <td>0</td>\n",
       "      <td>душевая кабина смеситель от пола размер</td>\n",
       "      <td>1701756963</td>\n",
       "      <td>1.701757e+09</td>\n",
       "      <td>False</td>\n",
       "      <td>False</td>\n",
       "      <td>True</td>\n",
       "      <td>False</td>\n",
       "      <td>начало</td>\n",
       "      <td>kpi</td>\n",
       "      <td>True</td>\n",
       "      <td>True</td>\n",
       "      <td>True</td>\n",
       "    </tr>\n",
       "    <tr>\n",
       "      <th>4</th>\n",
       "      <td>2559</td>\n",
       "      <td>1-2559</td>\n",
       "      <td>1-2559</td>\n",
       "      <td>1-2559</td>\n",
       "      <td>1844</td>\n",
       "      <td>1</td>\n",
       "      <td>дома с женой секс</td>\n",
       "      <td>1701244303</td>\n",
       "      <td>1.701244e+09</td>\n",
       "      <td>False</td>\n",
       "      <td>False</td>\n",
       "      <td>True</td>\n",
       "      <td>False</td>\n",
       "      <td>начало</td>\n",
       "      <td>validate</td>\n",
       "      <td>True</td>\n",
       "      <td>True</td>\n",
       "      <td>True</td>\n",
       "    </tr>\n",
       "  </tbody>\n",
       "</table>\n",
       "</div>"
      ],
      "text/plain": [
       "   request_id session_id_without_dist_and_tech session_id_without_dist  \\\n",
       "0         251                            0-251                   0-251   \n",
       "1        2967                           0-2967                  0-2967   \n",
       "2        2538                           0-2538                  0-2538   \n",
       "3         850                            0-850                   0-850   \n",
       "4        2559                           1-2559                  1-2559   \n",
       "\n",
       "  session_id  Unnamed: 0  user_id  \\\n",
       "0      0-251         899        0   \n",
       "1     0-2967         900        0   \n",
       "2     0-2538         901        0   \n",
       "3      0-850         902        0   \n",
       "4     1-2559        1844        1   \n",
       "\n",
       "                                           query          ts  last_click_ts  \\\n",
       "0             ипотека кредит проценты узбекистан  1701420565   1.701421e+09   \n",
       "1  Perfect breasts Thai girl fucked by Japan man  1701524468   1.701524e+09   \n",
       "2                          порно туретиский анал  1701732310   1.701732e+09   \n",
       "3        душевая кабина смеситель от пола размер  1701756963   1.701757e+09   \n",
       "4                              дома с женой секс  1701244303   1.701244e+09   \n",
       "\n",
       "   is_reload  is_not_zero_page  has_click  exception_flag verdict    sample  \\\n",
       "0      False             False       True           False  начало       kpi   \n",
       "1      False             False       True           False  начало       kpi   \n",
       "2      False             False       True           False  начало       kpi   \n",
       "3      False             False       True           False  начало       kpi   \n",
       "4      False             False       True           False  начало  validate   \n",
       "\n",
       "   y_true  y_pred  y_pred_without_dist  \n",
       "0    True    True                 True  \n",
       "1    True    True                 True  \n",
       "2    True    True                 True  \n",
       "3    True    True                 True  \n",
       "4    True    True                 True  "
      ]
     },
     "execution_count": 135,
     "metadata": {},
     "output_type": "execute_result"
    }
   ],
   "source": [
    "results.head()"
   ]
  },
  {
   "cell_type": "code",
   "execution_count": 136,
   "id": "7ba2b417-cf59-4f94-b445-6e433546acc0",
   "metadata": {},
   "outputs": [],
   "source": [
    "results['y_true'] = results['verdict'] == 'начало'\n",
    "results['y_pred'] = results.apply(lambda x: x['session_id'].split('-')[-1] == str(x['request_id']), axis=1)\n",
    "results['y_pred_without_dist'] = results.apply(lambda x: x['session_id_without_dist'].split('-')[-1] == str(x['request_id']), axis=1)\n",
    "results['y_pred_without_dist_and_tech'] = results.apply(lambda x: x['session_id_without_dist_and_tech'].split('-')[-1] == str(x['request_id']), axis=1)"
   ]
  },
  {
   "cell_type": "code",
   "execution_count": 137,
   "id": "cfa6f4c0-8d9c-42cb-b495-49a3bb2db153",
   "metadata": {},
   "outputs": [
    {
     "data": {
      "text/plain": [
       "0.8845789971617786"
      ]
     },
     "execution_count": 137,
     "metadata": {},
     "output_type": "execute_result"
    }
   ],
   "source": [
    "f1_score(results[results['sample'] == 'validate']['y_true'], results[results['sample'] == 'validate']['y_pred'])"
   ]
  },
  {
   "cell_type": "code",
   "execution_count": 141,
   "id": "24e417ae-5ad6-4c21-9771-752cc76c9ab9",
   "metadata": {},
   "outputs": [
    {
     "data": {
      "text/plain": [
       "0.8282520325203252"
      ]
     },
     "execution_count": 141,
     "metadata": {},
     "output_type": "execute_result"
    }
   ],
   "source": [
    "f1_score(results[results['sample'] == 'validate']['y_true'], results[results['sample'] == 'validate']['y_pred_without_dist'])"
   ]
  },
  {
   "cell_type": "code",
   "execution_count": 142,
   "id": "fe2a7c50-f3d4-4062-ab0c-27752e789d3e",
   "metadata": {},
   "outputs": [
    {
     "data": {
      "text/plain": [
       "0.798219584569733"
      ]
     },
     "execution_count": 142,
     "metadata": {},
     "output_type": "execute_result"
    }
   ],
   "source": [
    "f1_score(results[results['sample'] == 'validate']['y_true'], results[results['sample'] == 'validate']['y_pred_without_dist_and_tech'])"
   ]
  },
  {
   "cell_type": "code",
   "execution_count": 138,
   "id": "30012ab2-9635-4582-9fb6-3632ccc556fe",
   "metadata": {},
   "outputs": [
    {
     "data": {
      "text/plain": [
       "0.925531914893617"
      ]
     },
     "execution_count": 138,
     "metadata": {},
     "output_type": "execute_result"
    }
   ],
   "source": [
    "f1_score(results[results['sample'] == 'kpi']['y_true'], results[results['sample'] == 'kpi']['y_pred'])"
   ]
  },
  {
   "cell_type": "code",
   "execution_count": 139,
   "id": "c11c2034-936e-420c-ae76-34dbc6cc8249",
   "metadata": {},
   "outputs": [
    {
     "data": {
      "text/plain": [
       "0.8815028901734104"
      ]
     },
     "execution_count": 139,
     "metadata": {},
     "output_type": "execute_result"
    }
   ],
   "source": [
    "f1_score(results[results['sample'] == 'kpi']['y_true'], results[results['sample'] == 'kpi']['y_pred_without_dist'])"
   ]
  },
  {
   "cell_type": "code",
   "execution_count": 140,
   "id": "4350837b-2e9c-4e69-bc0d-d2e44da9af6d",
   "metadata": {},
   "outputs": [
    {
     "data": {
      "text/plain": [
       "0.8559201141226819"
      ]
     },
     "execution_count": 140,
     "metadata": {},
     "output_type": "execute_result"
    }
   ],
   "source": [
    "f1_score(results[results['sample'] == 'kpi']['y_true'], results[results['sample'] == 'kpi']['y_pred_without_dist_and_tech'])"
   ]
  },
  {
   "cell_type": "code",
   "execution_count": 127,
   "id": "af7d48c6-5de2-4c7f-b67f-5add2c5a1eaf",
   "metadata": {},
   "outputs": [
    {
     "data": {
      "text/plain": [
       "0.9329758713136729"
      ]
     },
     "execution_count": 127,
     "metadata": {},
     "output_type": "execute_result"
    }
   ],
   "source": [
    "precision_score(results[results['sample'] == 'kpi']['y_true'], results[results['sample'] == 'kpi']['y_pred'])"
   ]
  },
  {
   "cell_type": "code",
   "execution_count": 128,
   "id": "c5d883ef-9f1b-4694-90b3-a6e495455618",
   "metadata": {},
   "outputs": [
    {
     "data": {
      "text/plain": [
       "0.9182058047493403"
      ]
     },
     "execution_count": 128,
     "metadata": {},
     "output_type": "execute_result"
    }
   ],
   "source": [
    "recall_score(results[results['sample'] == 'kpi']['y_true'], results[results['sample'] == 'kpi']['y_pred'])"
   ]
  },
  {
   "cell_type": "code",
   "execution_count": 130,
   "id": "406d5285-3b5f-40a7-b0e8-a2a33d108c74",
   "metadata": {},
   "outputs": [
    {
     "data": {
      "text/plain": [
       "0.9744408945686901"
      ]
     },
     "execution_count": 130,
     "metadata": {},
     "output_type": "execute_result"
    }
   ],
   "source": [
    "precision_score(results[results['sample'] == 'kpi']['y_true'], results[results['sample'] == 'kpi']['y_pred_without_dist'])"
   ]
  },
  {
   "cell_type": "code",
   "execution_count": 131,
   "id": "4c112dca-7e49-4c0a-b90f-3a726260ef52",
   "metadata": {},
   "outputs": [
    {
     "data": {
      "text/plain": [
       "0.8047493403693932"
      ]
     },
     "execution_count": 131,
     "metadata": {},
     "output_type": "execute_result"
    }
   ],
   "source": [
    "recall_score(results[results['sample'] == 'kpi']['y_true'], results[results['sample'] == 'kpi']['y_pred_without_dist'])"
   ]
  },
  {
   "cell_type": "code",
   "execution_count": 143,
   "id": "38d73ac9-c0cd-41c7-813f-4588cdfd6dc6",
   "metadata": {},
   "outputs": [
    {
     "data": {
      "text/plain": [
       "0.9316770186335404"
      ]
     },
     "execution_count": 143,
     "metadata": {},
     "output_type": "execute_result"
    }
   ],
   "source": [
    "precision_score(results[results['sample'] == 'kpi']['y_true'], results[results['sample'] == 'kpi']['y_pred_without_dist_and_tech'])"
   ]
  },
  {
   "cell_type": "code",
   "execution_count": null,
   "id": "db4a3411-7a65-44cc-bafc-48c6b617c237",
   "metadata": {},
   "outputs": [],
   "source": [
    "recall_score(results[results['sample'] == 'kpi']['y_true'], results[results['sample'] == 'kpi']['y_pred_without_dist_and_'])"
   ]
  }
 ],
 "metadata": {
  "kernelspec": {
   "display_name": "Python 3 (ipykernel)",
   "language": "python",
   "name": "python3"
  },
  "language_info": {
   "codemirror_mode": {
    "name": "ipython",
    "version": 3
   },
   "file_extension": ".py",
   "mimetype": "text/x-python",
   "name": "python",
   "nbconvert_exporter": "python",
   "pygments_lexer": "ipython3",
   "version": "3.11.6"
  }
 },
 "nbformat": 4,
 "nbformat_minor": 5
}
