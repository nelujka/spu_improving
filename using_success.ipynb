{
 "cells": [
  {
   "cell_type": "code",
   "execution_count": 76,
   "id": "259c56ef-b340-4e07-beca-900272f065ac",
   "metadata": {},
   "outputs": [],
   "source": [
    "import numpy as np\n",
    "import pandas as pd"
   ]
  },
  {
   "cell_type": "code",
   "execution_count": 2,
   "id": "3ddb35bc-a2ed-4635-8710-36abc7228d21",
   "metadata": {},
   "outputs": [
    {
     "data": {
      "text/html": [
       "<div>\n",
       "<style scoped>\n",
       "    .dataframe tbody tr th:only-of-type {\n",
       "        vertical-align: middle;\n",
       "    }\n",
       "\n",
       "    .dataframe tbody tr th {\n",
       "        vertical-align: top;\n",
       "    }\n",
       "\n",
       "    .dataframe thead th {\n",
       "        text-align: right;\n",
       "    }\n",
       "</style>\n",
       "<table border=\"1\" class=\"dataframe\">\n",
       "  <thead>\n",
       "    <tr style=\"text-align: right;\">\n",
       "      <th></th>\n",
       "      <th>group_id</th>\n",
       "      <th>in_test</th>\n",
       "      <th>inactivity_time</th>\n",
       "      <th>next_query_distance</th>\n",
       "      <th>next_query_time</th>\n",
       "      <th>query</th>\n",
       "      <th>request_id</th>\n",
       "      <th>user_id</th>\n",
       "      <th>verdict</th>\n",
       "      <th>verdict_fixed</th>\n",
       "    </tr>\n",
       "  </thead>\n",
       "  <tbody>\n",
       "    <tr>\n",
       "      <th>1</th>\n",
       "      <td>1</td>\n",
       "      <td>True</td>\n",
       "      <td>NaN</td>\n",
       "      <td>0.572011</td>\n",
       "      <td>154918</td>\n",
       "      <td>красивые сборки тарков</td>\n",
       "      <td>1</td>\n",
       "      <td>7122</td>\n",
       "      <td>Не решил</td>\n",
       "      <td>Не решил</td>\n",
       "    </tr>\n",
       "    <tr>\n",
       "      <th>2</th>\n",
       "      <td>1</td>\n",
       "      <td>True</td>\n",
       "      <td>NaN</td>\n",
       "      <td>0</td>\n",
       "      <td>254</td>\n",
       "      <td>русское порно с разговорами</td>\n",
       "      <td>1</td>\n",
       "      <td>15325</td>\n",
       "      <td>Решил вкладкой</td>\n",
       "      <td>Решил вкладкой</td>\n",
       "    </tr>\n",
       "    <tr>\n",
       "      <th>3</th>\n",
       "      <td>1</td>\n",
       "      <td>True</td>\n",
       "      <td>NaN</td>\n",
       "      <td>0.44038896241944037</td>\n",
       "      <td>151708</td>\n",
       "      <td>русское порно с разговорами</td>\n",
       "      <td>2</td>\n",
       "      <td>15325</td>\n",
       "      <td>Решил -1</td>\n",
       "      <td>Решил вкладкой</td>\n",
       "    </tr>\n",
       "    <tr>\n",
       "      <th>4</th>\n",
       "      <td>1</td>\n",
       "      <td>False</td>\n",
       "      <td>395</td>\n",
       "      <td>0.2873228583998181</td>\n",
       "      <td>398</td>\n",
       "      <td>porno365</td>\n",
       "      <td>1</td>\n",
       "      <td>406</td>\n",
       "      <td>Решил 0</td>\n",
       "      <td>Решил 0</td>\n",
       "    </tr>\n",
       "    <tr>\n",
       "      <th>5</th>\n",
       "      <td>2</td>\n",
       "      <td>False</td>\n",
       "      <td>NaN</td>\n",
       "      <td>NaN</td>\n",
       "      <td>NaN</td>\n",
       "      <td>русское порно</td>\n",
       "      <td>2</td>\n",
       "      <td>406</td>\n",
       "      <td>Решил 0</td>\n",
       "      <td>Решил 0</td>\n",
       "    </tr>\n",
       "  </tbody>\n",
       "</table>\n",
       "</div>"
      ],
      "text/plain": [
       "  group_id in_test inactivity_time  next_query_distance next_query_time  \\\n",
       "1        1    True             NaN             0.572011          154918   \n",
       "2        1    True             NaN                    0             254   \n",
       "3        1    True             NaN  0.44038896241944037          151708   \n",
       "4        1   False             395   0.2873228583998181             398   \n",
       "5        2   False             NaN                  NaN             NaN   \n",
       "\n",
       "                         query request_id user_id         verdict  \\\n",
       "1       красивые сборки тарков          1    7122        Не решил   \n",
       "2  русское порно с разговорами          1   15325  Решил вкладкой   \n",
       "3  русское порно с разговорами          2   15325        Решил -1   \n",
       "4                     porno365          1     406         Решил 0   \n",
       "5                русское порно          2     406         Решил 0   \n",
       "\n",
       "    verdict_fixed  \n",
       "1        Не решил  \n",
       "2  Решил вкладкой  \n",
       "3  Решил вкладкой  \n",
       "4         Решил 0  \n",
       "5         Решил 0  "
      ]
     },
     "execution_count": 2,
     "metadata": {},
     "output_type": "execute_result"
    }
   ],
   "source": [
    "data = pd.read_excel(\"swap14.xlsx\")\n",
    "data = data[data['request_id'] != 'uint64']\n",
    "data.head()"
   ]
  },
  {
   "cell_type": "code",
   "execution_count": 3,
   "id": "4502abe0-0eda-4dd3-9b2a-ae1edd061545",
   "metadata": {},
   "outputs": [
    {
     "data": {
      "text/plain": [
       "in_test\n",
       "False    2562\n",
       "True     2553\n",
       "Name: user_id, dtype: int64"
      ]
     },
     "execution_count": 3,
     "metadata": {},
     "output_type": "execute_result"
    }
   ],
   "source": [
    "data.groupby('in_test')['user_id'].nunique()"
   ]
  },
  {
   "cell_type": "code",
   "execution_count": 5,
   "id": "8afa48b0-6367-432f-9a28-313a988f1bb0",
   "metadata": {},
   "outputs": [
    {
     "data": {
      "text/html": [
       "<div>\n",
       "<style scoped>\n",
       "    .dataframe tbody tr th:only-of-type {\n",
       "        vertical-align: middle;\n",
       "    }\n",
       "\n",
       "    .dataframe tbody tr th {\n",
       "        vertical-align: top;\n",
       "    }\n",
       "\n",
       "    .dataframe thead th {\n",
       "        text-align: right;\n",
       "    }\n",
       "</style>\n",
       "<table border=\"1\" class=\"dataframe\">\n",
       "  <thead>\n",
       "    <tr style=\"text-align: right;\">\n",
       "      <th></th>\n",
       "      <th>group_id</th>\n",
       "      <th>in_test</th>\n",
       "      <th>inactivity_time</th>\n",
       "      <th>next_query_distance</th>\n",
       "      <th>next_query_time</th>\n",
       "      <th>query</th>\n",
       "      <th>request_id</th>\n",
       "      <th>user_id</th>\n",
       "      <th>verdict</th>\n",
       "      <th>verdict_fixed</th>\n",
       "    </tr>\n",
       "  </thead>\n",
       "  <tbody>\n",
       "  </tbody>\n",
       "</table>\n",
       "</div>"
      ],
      "text/plain": [
       "Empty DataFrame\n",
       "Columns: [group_id, in_test, inactivity_time, next_query_distance, next_query_time, query, request_id, user_id, verdict, verdict_fixed]\n",
       "Index: []"
      ]
     },
     "execution_count": 5,
     "metadata": {},
     "output_type": "execute_result"
    }
   ],
   "source": [
    "data[data['verdict_fixed'] == 'Решил -1']"
   ]
  },
  {
   "cell_type": "code",
   "execution_count": 6,
   "id": "96ac080c-3e62-47cb-9501-e44e31cd3cb9",
   "metadata": {},
   "outputs": [
    {
     "data": {
      "text/plain": [
       "in_test  verdict_fixed         \n",
       "False    Решил 0                   3362\n",
       "         Не решил                  2770\n",
       "         Решил 1                   1778\n",
       "         Технический               1035\n",
       "         Решил бескликово           868\n",
       "         Решил 2                    793\n",
       "         Решил вкладкой             506\n",
       "         Решил 3                    437\n",
       "         Решил 4                    294\n",
       "         Решил 5                    218\n",
       "         Решил 6                    132\n",
       "         Решил 7                     94\n",
       "         Решил 11+                   94\n",
       "         Решил 8                     82\n",
       "         Решил 9                     68\n",
       "         Решил в правой колонке      62\n",
       "         Решил 10                    45\n",
       "True     Решил 0                   2956\n",
       "         Не решил                  2939\n",
       "         Решил 1                   1644\n",
       "         Технический                999\n",
       "         Решил 2                    949\n",
       "         Решил бескликово           907\n",
       "         Решил 3                    682\n",
       "         Решил вкладкой             538\n",
       "         Решил 4                    381\n",
       "         Решил 5                    217\n",
       "         Решил 6                    157\n",
       "         Решил 11+                  106\n",
       "         Решил 8                     97\n",
       "         Решил в правой колонке      97\n",
       "         Решил 7                     89\n",
       "         Решил 9                     58\n",
       "         Решил 10                    54\n",
       "Name: count, dtype: int64"
      ]
     },
     "execution_count": 6,
     "metadata": {},
     "output_type": "execute_result"
    }
   ],
   "source": [
    "data.groupby('in_test')['verdict_fixed'].value_counts()"
   ]
  },
  {
   "cell_type": "code",
   "execution_count": 52,
   "id": "ba622a2c-dddc-4443-992e-0632f7a6e7b4",
   "metadata": {},
   "outputs": [],
   "source": [
    "users = list(set(data['user_id']))\n",
    "np.random.seed(26)\n",
    "buckets = np.random.randint(0, 100, len(users))\n",
    "data['bucket'] = data['user_id'].apply(lambda x: buckets[users.index(x)])"
   ]
  },
  {
   "cell_type": "code",
   "execution_count": 53,
   "id": "27c8c531-39c4-42a6-bdf3-78b19aa77e00",
   "metadata": {},
   "outputs": [],
   "source": [
    "verdict_to_score = {'Не решил': -1,\n",
    "                    'Решил бескликово': 1.5,\n",
    "                    'Решил вкладкой': 1,\n",
    "                    'Решил в правой колонке': 1,\n",
    "                    'Технический': 0,\n",
    "                    'Решил 0': 1,\n",
    "                    'Решил 1': 1/2,\n",
    "                    'Решил 2': 1/3,\n",
    "                    'Решил 3': 1/4,\n",
    "                    'Решил 4': 1/5,\n",
    "                    'Решил 5': 1/6,\n",
    "                    'Решил 6': 1/8,\n",
    "                    'Решил 7': 1/8,\n",
    "                    'Решил 8': 1/9,\n",
    "                    'Решил 9': 1/10,\n",
    "                    'Решил 10': 1/11,\n",
    "                    'Решил 11+': 1/12}\n",
    "data['score'] = data['verdict_fixed'].apply(lambda x: verdict_to_score[x])"
   ]
  },
  {
   "cell_type": "code",
   "execution_count": 54,
   "id": "06c5ede0-5cba-4f8e-982a-621e0e48beca",
   "metadata": {},
   "outputs": [],
   "source": [
    "control = data[data['in_test'] == False].groupby(['bucket'])['score'].sum()\n",
    "test = data[data['in_test']].groupby(['bucket'])['score'].sum()"
   ]
  },
  {
   "cell_type": "code",
   "execution_count": 55,
   "id": "37a2ee04-9e40-4927-9c83-c04c962b1310",
   "metadata": {},
   "outputs": [],
   "source": [
    "from scipy.stats import mannwhitneyu"
   ]
  },
  {
   "cell_type": "code",
   "execution_count": 56,
   "id": "80d53694-bb25-4967-ba5b-ad1288ab4be3",
   "metadata": {},
   "outputs": [
    {
     "data": {
      "text/plain": [
       "MannwhitneyuResult(statistic=6073.5, pvalue=0.008747771251673352)"
      ]
     },
     "execution_count": 56,
     "metadata": {},
     "output_type": "execute_result"
    }
   ],
   "source": [
    "mannwhitneyu(control, test)"
   ]
  },
  {
   "cell_type": "code",
   "execution_count": 57,
   "id": "7894264b-1f05-45fd-8b7f-9a47990cef1d",
   "metadata": {},
   "outputs": [
    {
     "data": {
      "text/plain": [
       "(3875.8020202020225, 3494.7702020202023)"
      ]
     },
     "execution_count": 57,
     "metadata": {},
     "output_type": "execute_result"
    }
   ],
   "source": [
    "sum(control), sum(test)"
   ]
  },
  {
   "cell_type": "code",
   "execution_count": null,
   "id": "f7215e38-3d0a-411e-a34c-5b6eec709f5a",
   "metadata": {},
   "outputs": [],
   "source": [
    "control = data[data['in_test'] == False].groupby(['bucket'])[''].sum()\n",
    "test = data[data['in_test']].groupby(['bucket'])['score'].sum()"
   ]
  },
  {
   "cell_type": "code",
   "execution_count": 60,
   "id": "4eba13a3-37ac-429f-9a5b-04afae6f1773",
   "metadata": {},
   "outputs": [],
   "source": [
    "data['is_solved'] = data['verdict_fixed'].apply(lambda x: x not in ['Не решил', 'Технический'])\n",
    "data['is_not_solved'] = data['verdict_fixed'].apply(lambda x: x == 'Не решил')"
   ]
  },
  {
   "cell_type": "code",
   "execution_count": 61,
   "id": "6f711839-e77d-4008-a028-62fe7acbfc11",
   "metadata": {},
   "outputs": [],
   "source": [
    "control = data[data['in_test'] == False].groupby(['bucket'])['is_solved'].sum()\n",
    "test = data[data['in_test']].groupby(['bucket'])['is_solved'].sum()"
   ]
  },
  {
   "cell_type": "code",
   "execution_count": 62,
   "id": "81a45340-7e8e-41f8-920e-a7742824a890",
   "metadata": {},
   "outputs": [
    {
     "data": {
      "text/plain": [
       "(8833, 8932)"
      ]
     },
     "execution_count": 62,
     "metadata": {},
     "output_type": "execute_result"
    }
   ],
   "source": [
    "sum(control), sum(test)"
   ]
  },
  {
   "cell_type": "code",
   "execution_count": 63,
   "id": "c10c6bda-a64c-4097-8eb4-2766a8216727",
   "metadata": {},
   "outputs": [
    {
     "data": {
      "text/plain": [
       "MannwhitneyuResult(statistic=4974.5, pvalue=0.9512845468932765)"
      ]
     },
     "execution_count": 63,
     "metadata": {},
     "output_type": "execute_result"
    }
   ],
   "source": [
    "mannwhitneyu(control, test)"
   ]
  },
  {
   "cell_type": "code",
   "execution_count": 64,
   "id": "1b76b747-66fb-44a5-bb91-d931ee6cff97",
   "metadata": {},
   "outputs": [],
   "source": [
    "control = data[data['in_test'] == False].groupby(['bucket'])['is_not_solved'].sum()\n",
    "test = data[data['in_test']].groupby(['bucket'])['is_not_solved'].sum()"
   ]
  },
  {
   "cell_type": "code",
   "execution_count": 65,
   "id": "e6950405-434b-4000-a61e-c548cf30a79a",
   "metadata": {},
   "outputs": [
    {
     "data": {
      "text/plain": [
       "(2770, 2939)"
      ]
     },
     "execution_count": 65,
     "metadata": {},
     "output_type": "execute_result"
    }
   ],
   "source": [
    "sum(control), sum(test)"
   ]
  },
  {
   "cell_type": "code",
   "execution_count": 66,
   "id": "bd16f628-8687-438f-a1b8-5ae228a5b23e",
   "metadata": {},
   "outputs": [
    {
     "data": {
      "text/plain": [
       "MannwhitneyuResult(statistic=4661.5, pvalue=0.4086833630972362)"
      ]
     },
     "execution_count": 66,
     "metadata": {},
     "output_type": "execute_result"
    }
   ],
   "source": [
    "mannwhitneyu(control, test)"
   ]
  },
  {
   "cell_type": "code",
   "execution_count": null,
   "id": "ecd093f8-789d-4d79-bac4-46c876eb5661",
   "metadata": {},
   "outputs": [],
   "source": [
    "control = data[data['in_test'] == False].groupby(['bucket'])['is_not_solved'].sum()\n",
    "test = data[data['in_test']].groupby(['bucket'])['is_not_solved'].sum()"
   ]
  },
  {
   "cell_type": "code",
   "execution_count": 73,
   "id": "332967a4-d969-405f-a820-a9684e189deb",
   "metadata": {},
   "outputs": [],
   "source": [
    "tc = data[data['in_test'] == False].groupby(['bucket'])[['is_not_solved', 'is_solved']].sum()\n",
    "control = tc['is_solved'] / (tc['is_not_solved'] + tc['is_solved'])\n",
    "tt = data[data['in_test']].groupby(['bucket'])[['is_not_solved', 'is_solved']].sum()\n",
    "test = tt['is_solved'] / (tt['is_not_solved'] + tt['is_solved'])"
   ]
  },
  {
   "cell_type": "code",
   "execution_count": 74,
   "id": "aa82910d-2507-4949-809f-e29da7cf2799",
   "metadata": {},
   "outputs": [
    {
     "data": {
      "text/plain": [
       "(0.7612686374213565, 0.7524218684188358)"
      ]
     },
     "execution_count": 74,
     "metadata": {},
     "output_type": "execute_result"
    }
   ],
   "source": [
    "sum(tc['is_solved']) / sum((tc['is_not_solved'] + tc['is_solved'])), sum(tt['is_solved']) / sum((tt['is_not_solved'] + tt['is_solved']))"
   ]
  },
  {
   "cell_type": "code",
   "execution_count": 75,
   "id": "afbdf812-da9f-44ca-8518-a110b9a74270",
   "metadata": {},
   "outputs": [
    {
     "data": {
      "text/plain": [
       "MannwhitneyuResult(statistic=5553.5, pvalue=0.17662857263661402)"
      ]
     },
     "execution_count": 75,
     "metadata": {},
     "output_type": "execute_result"
    }
   ],
   "source": [
    "mannwhitneyu(control, test)"
   ]
  },
  {
   "cell_type": "code",
   "execution_count": null,
   "id": "38827ae9-bce0-4dab-83ef-c03a37d7e740",
   "metadata": {},
   "outputs": [],
   "source": []
  }
 ],
 "metadata": {
  "kernelspec": {
   "display_name": "Python 3 (ipykernel)",
   "language": "python",
   "name": "python3"
  },
  "language_info": {
   "codemirror_mode": {
    "name": "ipython",
    "version": 3
   },
   "file_extension": ".py",
   "mimetype": "text/x-python",
   "name": "python",
   "nbconvert_exporter": "python",
   "pygments_lexer": "ipython3",
   "version": "3.11.6"
  }
 },
 "nbformat": 4,
 "nbformat_minor": 5
}
